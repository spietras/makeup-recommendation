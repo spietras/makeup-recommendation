{
 "cells": [
  {
   "cell_type": "code",
   "execution_count": 1,
   "metadata": {},
   "outputs": [],
   "source": [
    "import  os\n",
    "import pandas as pd\n",
    "import numpy as np\n",
    "import matplotlib.pyplot as plt\n",
    "import seaborn as sns"
   ]
  },
  {
   "cell_type": "code",
   "execution_count": 2,
   "metadata": {},
   "outputs": [],
   "source": [
    "sns.set(rc={'svg.fonttype': 'none'})\n",
    "sns.set_context('notebook', rc={'font.size':9,\n",
    "                                'axes.titlesize':9,\n",
    "                                'axes.labelsize':9,\n",
    "                                'legend.fontsize': 9,\n",
    "                                'xtick.labelsize':9,\n",
    "                                'ytick.labelsize':9})"
   ]
  },
  {
   "cell_type": "code",
   "execution_count": 3,
   "metadata": {},
   "outputs": [
    {
     "data": {
      "text/plain": [
       "['a', 'e', 'd', 'b', 'c', 'e', 'a', 'a', 'a', 'd']"
      ]
     },
     "execution_count": 3,
     "metadata": {},
     "output_type": "execute_result"
    }
   ],
   "source": [
    "def get_answer(filename):\n",
    "    with open(filename) as f:\n",
    "        return f.read()[0]\n",
    "\n",
    "correct_answers = [get_answer(f\"survey/questions/{q}/true.txt\") for q in sorted(os.listdir(\"survey/questions\"), key=int)]\n",
    "correct_answers"
   ]
  },
  {
   "cell_type": "code",
   "execution_count": 4,
   "metadata": {},
   "outputs": [],
   "source": [
    "df = pd.read_excel('survey/results.xls')"
   ]
  },
  {
   "cell_type": "code",
   "execution_count": 5,
   "metadata": {},
   "outputs": [],
   "source": [
    "orderings = [[ordering.split(';')[:-1] for ordering in answers] \n",
    "             for answers in df[[str(i+1) for i in range(len(correct_answers))]].values.T]\n",
    "\n",
    "correct_positions = [[ordering.index(correct_answers[i])+1 for ordering in question] for i, question in enumerate(orderings)]"
   ]
  },
  {
   "cell_type": "code",
   "execution_count": 7,
   "metadata": {},
   "outputs": [
    {
     "data": {
      "image/png": "[encoded data removed]",
      "text/plain": [
       "<Figure size 432x288 with 1 Axes>"
      ]
     },
     "metadata": {
      "needs_background": "light"
     },
     "output_type": "display_data"
    }
   ],
   "source": [
    "overall = [position for question in correct_positions for position in question]\n",
    "d = np.diff(np.unique(overall)).min()\n",
    "left_of_first_bin = min(overall) - float(d)/2\n",
    "right_of_last_bin = max(overall) + float(d)/2\n",
    "_ = plt.hist(overall, bins=np.arange(left_of_first_bin, right_of_last_bin + d, d))\n",
    "plt.xlabel(\"Pozycja\")\n",
    "plt.ylabel(\"Liczba wystąpień\")\n",
    "plt.gcf().patch.set_alpha(0.0)"
   ]
  }
 ],
 "metadata": {
  "kernelspec": {
   "display_name": "Python 3",
   "language": "python",
   "name": "python3"
  },
  "language_info": {
   "codemirror_mode": {
    "name": "ipython",
    "version": 3
   },
   "file_extension": ".py",
   "mimetype": "text/x-python",
   "name": "python",
   "nbconvert_exporter": "python",
   "pygments_lexer": "ipython3",
   "version": "3.8.5"
  }
 },
 "nbformat": 4,
 "nbformat_minor": 4
}
